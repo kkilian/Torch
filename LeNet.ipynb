{
  "cells": [
    {
      "cell_type": "code",
      "execution_count": 46,
      "metadata": {
        "id": "xKNrPx2cntyB"
      },
      "outputs": [],
      "source": [
        "import torch\n",
        "import torch.nn as nn\n",
        "import torch.nn.functional as F\n",
        "import numpy as np\n",
        "import matplotlib.pyplot as plt"
      ]
    },
    {
      "cell_type": "code",
      "execution_count": 47,
      "metadata": {
        "id": "9QH6rhfcntyE"
      },
      "outputs": [],
      "source": [
        "def fetch(url):\n",
        "  import requests, gzip, os, hashlib, numpy\n",
        "  fp = os.path.join(\"/tmp\", hashlib.md5(url.encode('utf-8')).hexdigest())\n",
        "  if os.path.isfile(fp):\n",
        "    with open(fp, \"rb\") as f:\n",
        "      dat = f.read()\n",
        "  else:\n",
        "    with open(fp, \"wb\") as f:\n",
        "      dat = requests.get(url).content\n",
        "      f.write(dat)\n",
        "  return numpy.frombuffer(gzip.decompress(dat), dtype=np.uint8).copy()\n",
        "X_train = fetch(\"http://yann.lecun.com/exdb/mnist/train-images-idx3-ubyte.gz\")[0x10:].reshape((-1, 28, 28))\n",
        "Y_train = fetch(\"http://yann.lecun.com/exdb/mnist/train-labels-idx1-ubyte.gz\")[8:]\n",
        "X_test = fetch(\"http://yann.lecun.com/exdb/mnist/t10k-images-idx3-ubyte.gz\")[0x10:].reshape((-1, 28, 28))\n",
        "Y_test = fetch(\"http://yann.lecun.com/exdb/mnist/t10k-labels-idx1-ubyte.gz\")[8:]"
      ]
    },
    {
      "cell_type": "code",
      "execution_count": 48,
      "metadata": {
        "id": "2TjO5JXSntyF"
      },
      "outputs": [],
      "source": [
        "class LeNet(nn.Module):\n",
        "    def __init__(self, num_classes=10):\n",
        "        super().__init__()\n",
        "        self.conv1 = nn.Conv2d(1, 6, 5)\n",
        "        self.conv2 = nn.Conv2d(6, 16, 5)\n",
        "        self.fc1 = nn.Linear(256, 128)\n",
        "        self.fc2 = nn.Linear(128, 84)\n",
        "        self.fc3 = nn.Linear(84, num_classes)\n",
        "    def _init_weights(self, module):\n",
        "        if isinstance(module, nn.Linear):\n",
        "            module.weight.data.normal_(mean=0.0, std=0.15)\n",
        "            if module.bias is not None:\n",
        "                module.bias.data.zero_()\n",
        "    def forward(self, x):\n",
        "        out = F.relu(self.conv1(x))\n",
        "        out = F.max_pool2d(out, 2)\n",
        "        out = F.relu(self.conv2(out))\n",
        "        out = F.max_pool2d(out, 2)\n",
        "        out = out.view(out.size(0), -1)\n",
        "        out = F.relu(self.fc1(out))\n",
        "        out = F.relu(self.fc2(out))\n",
        "        out = self.fc3(out)\n",
        "        return out"
      ]
    },
    {
      "cell_type": "code",
      "execution_count": 49,
      "metadata": {
        "colab": {
          "base_uri": "https://localhost:8080/"
        },
        "id": "LGqmdSBHntyG",
        "outputId": "4f9cb362-8c16-4870-bd0f-98edb4214323"
      },
      "outputs": [
        {
          "output_type": "execute_result",
          "data": {
            "text/plain": [
              "LeNet(\n",
              "  (conv1): Conv2d(1, 6, kernel_size=(5, 5), stride=(1, 1))\n",
              "  (conv2): Conv2d(6, 16, kernel_size=(5, 5), stride=(1, 1))\n",
              "  (fc1): Linear(in_features=256, out_features=128, bias=True)\n",
              "  (fc2): Linear(in_features=128, out_features=84, bias=True)\n",
              "  (fc3): Linear(in_features=84, out_features=10, bias=True)\n",
              ")"
            ]
          },
          "metadata": {},
          "execution_count": 49
        }
      ],
      "source": [
        "model = LeNet(10)\n",
        "model"
      ]
    },
    {
      "cell_type": "code",
      "execution_count": 50,
      "metadata": {
        "colab": {
          "base_uri": "https://localhost:8080/",
          "height": 283
        },
        "id": "lIWYLeyFntyH",
        "outputId": "6037d90f-842d-4423-b9ae-e56d55d0b9e0"
      },
      "outputs": [
        {
          "output_type": "execute_result",
          "data": {
            "text/plain": [
              "[<matplotlib.lines.Line2D at 0x7febfa1ae950>]"
            ]
          },
          "metadata": {},
          "execution_count": 50
        },
        {
          "output_type": "display_data",
          "data": {
            "text/plain": [
              "<Figure size 432x288 with 1 Axes>"
            ],
            "image/png": "[encoded data removed]"
          },
          "metadata": {
            "needs_background": "light"
          }
        }
      ],
      "source": [
        "loss_function = nn.CrossEntropyLoss()\n",
        "optim = torch.optim.SGD(model.parameters(), lr = 0.001)\n",
        "\n",
        "BS = 128\n",
        "losses, accuracies = [], []\n",
        "for i in (range(200)):\n",
        "  samp = np.random.randint(0, X_train.shape[0], size=(BS))\n",
        "  X = torch.tensor(X_train[samp].reshape((BS,1,28,28))).float()\n",
        "  Y = torch.tensor(Y_train[samp]).long()\n",
        "  model.zero_grad()\n",
        "  out = model(X)\n",
        "  cat = torch.argmax(out, dim=1)\n",
        "  accuracy = (cat == Y).float().mean()\n",
        "  loss = loss_function(out, Y)\n",
        "  loss = loss.mean()\n",
        "  loss.backward()\n",
        "  optim.step()\n",
        "  optim.zero_grad()\n",
        "  loss, accuracy = loss.item(), accuracy.item()\n",
        "  losses.append(loss)\n",
        "  accuracies.append(accuracy)\n",
        "plt.ylim(-0.1, 2.1)\n",
        "plt.plot(losses)\n",
        "plt.plot(accuracies)"
      ]
    },
    {
      "cell_type": "code",
      "execution_count": 51,
      "metadata": {
        "colab": {
          "base_uri": "https://localhost:8080/"
        },
        "id": "LILE8q_fntyH",
        "outputId": "2cc63f75-4877-49a1-d60c-4d1e71a3d8b1"
      },
      "outputs": [
        {
          "output_type": "execute_result",
          "data": {
            "text/plain": [
              "0.8715"
            ]
          },
          "metadata": {},
          "execution_count": 51
        }
      ],
      "source": [
        "Y_test_preds = torch.argmax(model(torch.tensor(X_test.reshape((10000,1, 28,28))).float()), dim=1).numpy()\n",
        "(Y_test == Y_test_preds).mean()"
      ]
    },
    {
      "cell_type": "code",
      "source": [
        "class LeNet_dropout(nn.Module):\n",
        "    def __init__(self, num_classes=10, dropout = 0.1):\n",
        "        super().__init__()\n",
        "        self.dropout_ratio = dropout\n",
        "        self.conv1 = nn.Conv2d(1, 6, 5)\n",
        "        self.conv2 = nn.Conv2d(6, 16, 5)\n",
        "        self.fc1 = nn.Linear(256, 128)\n",
        "        self.fc2 = nn.Linear(128, 84)\n",
        "        self.fc3 = nn.Linear(84, num_classes)\n",
        "    def _init_weights(self, module):\n",
        "        if isinstance(module, nn.Linear):\n",
        "            module.weight.data.normal_(mean=0.0, std=0.15)\n",
        "            if module.bias is not None:\n",
        "                module.bias.data.zero_()\n",
        "    def forward(self, x):\n",
        "        p = self.dropout_ratio\n",
        "        out = F.relu(F.dropout(self.conv1(x), p))\n",
        "        out = F.max_pool2d(out, 2)\n",
        "        out = F.relu(F.dropout(self.conv2(out), p))\n",
        "        out = F.max_pool2d(out, 2)\n",
        "        out = out.view(out.size(0), -1)\n",
        "        out = F.relu(F.dropout(self.fc1(out), p))\n",
        "        out = F.relu(F.dropout(self.fc2(out), p))\n",
        "        out = F.dropout(self.fc3(out), p)\n",
        "        return out"
      ],
      "metadata": {
        "id": "6ACaM8Innw7O"
      },
      "execution_count": 52,
      "outputs": []
    },
    {
      "cell_type": "code",
      "source": [
        "model2 = LeNet_dropout()\n",
        "model2"
      ],
      "metadata": {
        "colab": {
          "base_uri": "https://localhost:8080/"
        },
        "id": "lDLdhh_2nxHo",
        "outputId": "45b6b4d2-9586-412f-c48d-09e59ccf271d"
      },
      "execution_count": 53,
      "outputs": [
        {
          "output_type": "execute_result",
          "data": {
            "text/plain": [
              "LeNet_dropout(\n",
              "  (conv1): Conv2d(1, 6, kernel_size=(5, 5), stride=(1, 1))\n",
              "  (conv2): Conv2d(6, 16, kernel_size=(5, 5), stride=(1, 1))\n",
              "  (fc1): Linear(in_features=256, out_features=128, bias=True)\n",
              "  (fc2): Linear(in_features=128, out_features=84, bias=True)\n",
              "  (fc3): Linear(in_features=84, out_features=10, bias=True)\n",
              ")"
            ]
          },
          "metadata": {},
          "execution_count": 53
        }
      ]
    },
    {
      "cell_type": "code",
      "source": [
        "loss_function = nn.CrossEntropyLoss()\n",
        "optim = torch.optim.SGD(model2.parameters(), lr = 0.001)\n",
        "\n",
        "BS = 128\n",
        "losses, accuracies = [], []\n",
        "for i in (range(200)):\n",
        "  samp = np.random.randint(0, X_train.shape[0], size=(BS))\n",
        "  X = torch.tensor(X_train[samp].reshape((BS,1,28,28))).float()\n",
        "  Y = torch.tensor(Y_train[samp]).long()\n",
        "  model2.zero_grad()\n",
        "  out = model2(X)\n",
        "  cat = torch.argmax(out, dim=1)\n",
        "  accuracy = (cat == Y).float().mean()\n",
        "  loss = loss_function(out, Y)\n",
        "  loss = loss.mean()\n",
        "  loss.backward()\n",
        "  optim.step()\n",
        "  optim.zero_grad()\n",
        "  loss, accuracy = loss.item(), accuracy.item()\n",
        "  losses.append(loss)\n",
        "  accuracies.append(accuracy)\n",
        "plt.ylim(-0.1, 2.1)\n",
        "plt.plot(losses)\n",
        "plt.plot(accuracies)"
      ],
      "metadata": {
        "colab": {
          "base_uri": "https://localhost:8080/",
          "height": 283
        },
        "id": "Ze8r14tcpHvV",
        "outputId": "d153c85c-6042-402d-a32a-41e61f6ccc4b"
      },
      "execution_count": 54,
      "outputs": [
        {
          "output_type": "execute_result",
          "data": {
            "text/plain": [
              "[<matplotlib.lines.Line2D at 0x7febfa133fd0>]"
            ]
          },
          "metadata": {},
          "execution_count": 54
        },
        {
          "output_type": "display_data",
          "data": {
            "text/plain": [
              "<Figure size 432x288 with 1 Axes>"
            ],
            "image/png": "[encoded data removed]"
          },
          "metadata": {
            "needs_background": "light"
          }
        }
      ]
    },
    {
      "cell_type": "code",
      "source": [
        "Y_test_preds = torch.argmax(model2(torch.tensor(X_test.reshape((10000,1, 28,28))).float()), dim=1).numpy()\n",
        "(Y_test == Y_test_preds).mean()"
      ],
      "metadata": {
        "colab": {
          "base_uri": "https://localhost:8080/"
        },
        "id": "JsIoyI11pPDB",
        "outputId": "ae89e0c6-eb2f-4adf-f69e-b95a736bcb69"
      },
      "execution_count": 55,
      "outputs": [
        {
          "output_type": "execute_result",
          "data": {
            "text/plain": [
              "0.7041"
            ]
          },
          "metadata": {},
          "execution_count": 55
        }
      ]
    },
    {
      "cell_type": "code",
      "source": [
        "class LeNet_BatchNorm(nn.Module):\n",
        "    def __init__(self, num_classes=10, affine=False):\n",
        "        super().__init__()\n",
        "        self.conv1 = nn.Conv2d(1, 6, 5)\n",
        "        self.bn1 = nn.BatchNorm2d(6, affine=affine)\n",
        "        self.conv2 = nn.Conv2d(6, 16, 5)\n",
        "        self.bn2 = nn.BatchNorm2d(16, affine=affine)\n",
        "        self.fc1 = nn.Linear(256, 128)\n",
        "        self.bn3 = nn.BatchNorm1d(128, affine=affine)\n",
        "        self.fc2 = nn.Linear(128, 84)\n",
        "        self.bn4 = nn.BatchNorm1d(84, affine=affine)\n",
        "        self.fc3 = nn.Linear(84, num_classes)\n",
        "\n",
        "    def forward(self, x):\n",
        "        out = F.relu(self.bn1(self.conv1(x)))\n",
        "        out = F.max_pool2d(out, 2)\n",
        "        out = F.relu(self.bn2(self.conv2(out)))\n",
        "        out = F.max_pool2d(out, 2)\n",
        "        out = out.view(out.size(0), -1)\n",
        "        out = F.relu(self.bn3(self.fc1(out)))\n",
        "        out = F.relu(self.bn4(self.fc2(out)))\n",
        "        out = self.fc3(out)\n",
        "        return out"
      ],
      "metadata": {
        "id": "uxV6zKwUpTZp"
      },
      "execution_count": 56,
      "outputs": []
    },
    {
      "cell_type": "code",
      "source": [
        "model3 = LeNet_BatchNorm()\n",
        "model3"
      ],
      "metadata": {
        "colab": {
          "base_uri": "https://localhost:8080/"
        },
        "id": "b4tF3H2npyHP",
        "outputId": "01f98977-aeef-4151-b379-3193bb6cad50"
      },
      "execution_count": 57,
      "outputs": [
        {
          "output_type": "execute_result",
          "data": {
            "text/plain": [
              "LeNet_BatchNorm(\n",
              "  (conv1): Conv2d(1, 6, kernel_size=(5, 5), stride=(1, 1))\n",
              "  (bn1): BatchNorm2d(6, eps=1e-05, momentum=0.1, affine=False, track_running_stats=True)\n",
              "  (conv2): Conv2d(6, 16, kernel_size=(5, 5), stride=(1, 1))\n",
              "  (bn2): BatchNorm2d(16, eps=1e-05, momentum=0.1, affine=False, track_running_stats=True)\n",
              "  (fc1): Linear(in_features=256, out_features=128, bias=True)\n",
              "  (bn3): BatchNorm1d(128, eps=1e-05, momentum=0.1, affine=False, track_running_stats=True)\n",
              "  (fc2): Linear(in_features=128, out_features=84, bias=True)\n",
              "  (bn4): BatchNorm1d(84, eps=1e-05, momentum=0.1, affine=False, track_running_stats=True)\n",
              "  (fc3): Linear(in_features=84, out_features=10, bias=True)\n",
              ")"
            ]
          },
          "metadata": {},
          "execution_count": 57
        }
      ]
    },
    {
      "cell_type": "code",
      "source": [
        "loss_function = nn.CrossEntropyLoss()\n",
        "optim = torch.optim.SGD(model3.parameters(), lr = 0.001)\n",
        "\n",
        "BS = 128\n",
        "losses, accuracies = [], []\n",
        "for i in (range(1000)):\n",
        "  samp = np.random.randint(0, X_train.shape[0], size=(BS))\n",
        "  X = torch.tensor(X_train[samp].reshape((BS,1,28,28))).float()\n",
        "  Y = torch.tensor(Y_train[samp]).long()\n",
        "  model3.zero_grad()\n",
        "  out = model3(X)\n",
        "  cat = torch.argmax(out, dim=1)\n",
        "  accuracy = (cat == Y).float().mean()\n",
        "  loss = loss_function(out, Y)\n",
        "  loss = loss.mean()\n",
        "  loss.backward()\n",
        "  optim.step()\n",
        "  optim.zero_grad()\n",
        "  loss, accuracy = loss.item(), accuracy.item()\n",
        "  losses.append(loss)\n",
        "  accuracies.append(accuracy)\n",
        "plt.ylim(-0.1, 2.1)\n",
        "plt.plot(losses)\n",
        "plt.plot(accuracies)"
      ],
      "metadata": {
        "colab": {
          "base_uri": "https://localhost:8080/",
          "height": 283
        },
        "id": "stVmSADlp8m1",
        "outputId": "98d97d9f-af77-4a46-e3bb-067f5aa48a3b"
      },
      "execution_count": 60,
      "outputs": [
        {
          "output_type": "execute_result",
          "data": {
            "text/plain": [
              "[<matplotlib.lines.Line2D at 0x7febfa05cd10>]"
            ]
          },
          "metadata": {},
          "execution_count": 60
        },
        {
          "output_type": "display_data",
          "data": {
            "text/plain": [
              "<Figure size 432x288 with 1 Axes>"
            ],
            "image/png": "[encoded data removed]"
          },
          "metadata": {
            "needs_background": "light"
          }
        }
      ]
    },
    {
      "cell_type": "code",
      "source": [
        "Y_test_preds = torch.argmax(model3(torch.tensor(X_test.reshape((10000,1, 28,28))).float()), dim=1).numpy()\n",
        "(Y_test == Y_test_preds).mean()"
      ],
      "metadata": {
        "colab": {
          "base_uri": "https://localhost:8080/"
        },
        "id": "sTX1lb6Ip-2I",
        "outputId": "8432bdf4-000f-4432-9f33-0091f0d774fd"
      },
      "execution_count": 61,
      "outputs": [
        {
          "output_type": "execute_result",
          "data": {
            "text/plain": [
              "0.8662"
            ]
          },
          "metadata": {},
          "execution_count": 61
        }
      ]
    },
    {
      "cell_type": "code",
      "source": [
        ""
      ],
      "metadata": {
        "id": "iEQu6cS7qfzY"
      },
      "execution_count": 59,
      "outputs": []
    }
  ],
  "metadata": {
    "kernelspec": {
      "display_name": "Python 3",
      "language": "python",
      "name": "python3"
    },
    "language_info": {
      "codemirror_mode": {
        "name": "ipython",
        "version": 3
      },
      "file_extension": ".py",
      "mimetype": "text/x-python",
      "name": "python",
      "nbconvert_exporter": "python",
      "pygments_lexer": "ipython3",
      "version": "3.8.5"
    },
    "colab": {
      "name": "LeNet.ipynb",
      "provenance": []
    }
  },
  "nbformat": 4,
  "nbformat_minor": 0
}